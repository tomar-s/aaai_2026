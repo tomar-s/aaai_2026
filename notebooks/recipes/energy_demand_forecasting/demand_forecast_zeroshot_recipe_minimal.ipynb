{
 "cells": [
  {
   "attachments": {},
   "cell_type": "markdown",
   "id": "b6b03c92-c01f-4974-a850-42268c65117d",
   "metadata": {
    "editable": true,
    "slideshow": {
     "slide_type": ""
    },
    "tags": []
   },
   "source": [
    "# Granite-TimeSeries-TTM   \n",
    "\n",
    "TinyTimeMixers (TTMs) are compact pre-trained models for Multivariate Time-Series Forecasting, open-sourced by IBM Research. With less than 1 Million parameters, TTM introduces the notion of the first-ever \"tiny\" pre-trained models for Time-Series Forecasting. TTM outperforms several popular benchmarks demanding billions of parameters in zero-shot and few-shot forecasting and can easily be fine-tuned for multi-variate forecasts."
   ]
  },
  {
   "cell_type": "code",
   "execution_count": 1,
   "id": "e7deb64f-9f1a-4f20-aa1d-01b46abfa7d5",
   "metadata": {},
   "outputs": [
    {
     "name": "stderr",
     "output_type": "stream",
     "text": [
      "INFO:p-26782:t-8661148224:config.py:<module>:PyTorch version 2.2.2 available.\n"
     ]
    }
   ],
   "source": [
    "import pathlib\n",
    "import pandas as pd\n",
    "from tsfm_public import TimeSeriesForecastingPipeline, TinyTimeMixerForPrediction\n",
    "from tsfm_public.toolkit.visualization import plot_predictions"
   ]
  },
  {
   "cell_type": "code",
   "execution_count": 2,
   "id": "306a8c42-3d2f-4511-baa5-ce985d54c38f",
   "metadata": {},
   "outputs": [
    {
     "data": {
      "text/plain": [
       "'0.2.9.dev29+g6f55407.d20240830'"
      ]
     },
     "execution_count": 2,
     "metadata": {},
     "output_type": "execute_result"
    }
   ],
   "source": [
    "import tsfm_public\n",
    "tsfm_public.__version__"
   ]
  },
  {
   "cell_type": "markdown",
   "id": "73406eda-65aa-438e-aee6-9c65f1a3ee56",
   "metadata": {},
   "source": [
    "## Initial setup\n",
    "1. Download energy_data.csv.zip and weather_data.csv.zip from https://www.kaggle.com/datasets/nicholasjhana/energy-consumption-generation-prices-and-weather\n",
    "2. Place the downloaded files into a folder and update the data_path below"
   ]
  },
  {
   "cell_type": "code",
   "execution_count": 3,
   "id": "1563d66d-bf38-4fcf-bdd0-57a9187ef8e4",
   "metadata": {},
   "outputs": [],
   "source": [
    "data_path = pathlib.Path(\"~/Dev/data\")"
   ]
  },
  {
   "cell_type": "markdown",
   "id": "d0ce984c",
   "metadata": {},
   "source": [
    "## Load and prepare data"
   ]
  },
  {
   "cell_type": "code",
   "execution_count": 4,
   "id": "984ca0d9",
   "metadata": {},
   "outputs": [
    {
     "name": "stdout",
     "output_type": "stream",
     "text": [
      "(512, 29)\n"
     ]
    },
    {
     "data": {
      "text/html": [
       "<div>\n",
       "<style scoped>\n",
       "    .dataframe tbody tr th:only-of-type {\n",
       "        vertical-align: middle;\n",
       "    }\n",
       "\n",
       "    .dataframe tbody tr th {\n",
       "        vertical-align: top;\n",
       "    }\n",
       "\n",
       "    .dataframe thead th {\n",
       "        text-align: right;\n",
       "    }\n",
       "</style>\n",
       "<table border=\"1\" class=\"dataframe\">\n",
       "  <thead>\n",
       "    <tr style=\"text-align: right;\">\n",
       "      <th></th>\n",
       "      <th>time</th>\n",
       "      <th>generation biomass</th>\n",
       "      <th>generation fossil brown coal/lignite</th>\n",
       "      <th>generation fossil coal-derived gas</th>\n",
       "      <th>generation fossil gas</th>\n",
       "      <th>generation fossil hard coal</th>\n",
       "      <th>generation fossil oil</th>\n",
       "      <th>generation fossil oil shale</th>\n",
       "      <th>generation fossil peat</th>\n",
       "      <th>generation geothermal</th>\n",
       "      <th>...</th>\n",
       "      <th>generation waste</th>\n",
       "      <th>generation wind offshore</th>\n",
       "      <th>generation wind onshore</th>\n",
       "      <th>forecast solar day ahead</th>\n",
       "      <th>forecast wind offshore eday ahead</th>\n",
       "      <th>forecast wind onshore day ahead</th>\n",
       "      <th>total load forecast</th>\n",
       "      <th>total load actual</th>\n",
       "      <th>price day ahead</th>\n",
       "      <th>price actual</th>\n",
       "    </tr>\n",
       "  </thead>\n",
       "  <tbody>\n",
       "    <tr>\n",
       "      <th>34552</th>\n",
       "      <td>2018-12-10 16:00:00+01:00</td>\n",
       "      <td>308.0</td>\n",
       "      <td>683.0</td>\n",
       "      <td>0.0</td>\n",
       "      <td>3978.0</td>\n",
       "      <td>3080.0</td>\n",
       "      <td>306.0</td>\n",
       "      <td>0.0</td>\n",
       "      <td>0.0</td>\n",
       "      <td>0.0</td>\n",
       "      <td>...</td>\n",
       "      <td>289.0</td>\n",
       "      <td>0.0</td>\n",
       "      <td>5746.0</td>\n",
       "      <td>2494.0</td>\n",
       "      <td>NaN</td>\n",
       "      <td>6466.0</td>\n",
       "      <td>24484.0</td>\n",
       "      <td>24465.0</td>\n",
       "      <td>56.96</td>\n",
       "      <td>69.76</td>\n",
       "    </tr>\n",
       "    <tr>\n",
       "      <th>34553</th>\n",
       "      <td>2018-12-10 17:00:00+01:00</td>\n",
       "      <td>314.0</td>\n",
       "      <td>686.0</td>\n",
       "      <td>0.0</td>\n",
       "      <td>4338.0</td>\n",
       "      <td>3241.0</td>\n",
       "      <td>303.0</td>\n",
       "      <td>0.0</td>\n",
       "      <td>0.0</td>\n",
       "      <td>0.0</td>\n",
       "      <td>...</td>\n",
       "      <td>289.0</td>\n",
       "      <td>0.0</td>\n",
       "      <td>5524.0</td>\n",
       "      <td>1838.0</td>\n",
       "      <td>NaN</td>\n",
       "      <td>6269.0</td>\n",
       "      <td>24033.0</td>\n",
       "      <td>24068.0</td>\n",
       "      <td>67.32</td>\n",
       "      <td>73.48</td>\n",
       "    </tr>\n",
       "    <tr>\n",
       "      <th>34554</th>\n",
       "      <td>2018-12-10 18:00:00+01:00</td>\n",
       "      <td>313.0</td>\n",
       "      <td>711.0</td>\n",
       "      <td>0.0</td>\n",
       "      <td>5020.0</td>\n",
       "      <td>3436.0</td>\n",
       "      <td>305.0</td>\n",
       "      <td>0.0</td>\n",
       "      <td>0.0</td>\n",
       "      <td>0.0</td>\n",
       "      <td>...</td>\n",
       "      <td>295.0</td>\n",
       "      <td>0.0</td>\n",
       "      <td>5139.0</td>\n",
       "      <td>1119.0</td>\n",
       "      <td>NaN</td>\n",
       "      <td>5962.0</td>\n",
       "      <td>24053.0</td>\n",
       "      <td>24018.0</td>\n",
       "      <td>68.68</td>\n",
       "      <td>77.65</td>\n",
       "    </tr>\n",
       "    <tr>\n",
       "      <th>34555</th>\n",
       "      <td>2018-12-10 19:00:00+01:00</td>\n",
       "      <td>315.0</td>\n",
       "      <td>716.0</td>\n",
       "      <td>0.0</td>\n",
       "      <td>5449.0</td>\n",
       "      <td>3410.0</td>\n",
       "      <td>294.0</td>\n",
       "      <td>0.0</td>\n",
       "      <td>0.0</td>\n",
       "      <td>0.0</td>\n",
       "      <td>...</td>\n",
       "      <td>297.0</td>\n",
       "      <td>0.0</td>\n",
       "      <td>4933.0</td>\n",
       "      <td>404.0</td>\n",
       "      <td>NaN</td>\n",
       "      <td>5690.0</td>\n",
       "      <td>25203.0</td>\n",
       "      <td>25036.0</td>\n",
       "      <td>70.46</td>\n",
       "      <td>76.23</td>\n",
       "    </tr>\n",
       "    <tr>\n",
       "      <th>34556</th>\n",
       "      <td>2018-12-10 20:00:00+01:00</td>\n",
       "      <td>316.0</td>\n",
       "      <td>711.0</td>\n",
       "      <td>0.0</td>\n",
       "      <td>5645.0</td>\n",
       "      <td>3419.0</td>\n",
       "      <td>295.0</td>\n",
       "      <td>0.0</td>\n",
       "      <td>0.0</td>\n",
       "      <td>0.0</td>\n",
       "      <td>...</td>\n",
       "      <td>294.0</td>\n",
       "      <td>0.0</td>\n",
       "      <td>4929.0</td>\n",
       "      <td>200.0</td>\n",
       "      <td>NaN</td>\n",
       "      <td>5680.0</td>\n",
       "      <td>27579.0</td>\n",
       "      <td>27411.0</td>\n",
       "      <td>72.82</td>\n",
       "      <td>75.54</td>\n",
       "    </tr>\n",
       "  </tbody>\n",
       "</table>\n",
       "<p>5 rows × 29 columns</p>\n",
       "</div>"
      ],
      "text/plain": [
       "                            time  generation biomass  \\\n",
       "34552  2018-12-10 16:00:00+01:00               308.0   \n",
       "34553  2018-12-10 17:00:00+01:00               314.0   \n",
       "34554  2018-12-10 18:00:00+01:00               313.0   \n",
       "34555  2018-12-10 19:00:00+01:00               315.0   \n",
       "34556  2018-12-10 20:00:00+01:00               316.0   \n",
       "\n",
       "       generation fossil brown coal/lignite  \\\n",
       "34552                                 683.0   \n",
       "34553                                 686.0   \n",
       "34554                                 711.0   \n",
       "34555                                 716.0   \n",
       "34556                                 711.0   \n",
       "\n",
       "       generation fossil coal-derived gas  generation fossil gas  \\\n",
       "34552                                 0.0                 3978.0   \n",
       "34553                                 0.0                 4338.0   \n",
       "34554                                 0.0                 5020.0   \n",
       "34555                                 0.0                 5449.0   \n",
       "34556                                 0.0                 5645.0   \n",
       "\n",
       "       generation fossil hard coal  generation fossil oil  \\\n",
       "34552                       3080.0                  306.0   \n",
       "34553                       3241.0                  303.0   \n",
       "34554                       3436.0                  305.0   \n",
       "34555                       3410.0                  294.0   \n",
       "34556                       3419.0                  295.0   \n",
       "\n",
       "       generation fossil oil shale  generation fossil peat  \\\n",
       "34552                          0.0                     0.0   \n",
       "34553                          0.0                     0.0   \n",
       "34554                          0.0                     0.0   \n",
       "34555                          0.0                     0.0   \n",
       "34556                          0.0                     0.0   \n",
       "\n",
       "       generation geothermal  ...  generation waste  generation wind offshore  \\\n",
       "34552                    0.0  ...             289.0                       0.0   \n",
       "34553                    0.0  ...             289.0                       0.0   \n",
       "34554                    0.0  ...             295.0                       0.0   \n",
       "34555                    0.0  ...             297.0                       0.0   \n",
       "34556                    0.0  ...             294.0                       0.0   \n",
       "\n",
       "       generation wind onshore  forecast solar day ahead  \\\n",
       "34552                   5746.0                    2494.0   \n",
       "34553                   5524.0                    1838.0   \n",
       "34554                   5139.0                    1119.0   \n",
       "34555                   4933.0                     404.0   \n",
       "34556                   4929.0                     200.0   \n",
       "\n",
       "       forecast wind offshore eday ahead  forecast wind onshore day ahead  \\\n",
       "34552                                NaN                           6466.0   \n",
       "34553                                NaN                           6269.0   \n",
       "34554                                NaN                           5962.0   \n",
       "34555                                NaN                           5690.0   \n",
       "34556                                NaN                           5680.0   \n",
       "\n",
       "       total load forecast  total load actual  price day ahead  price actual  \n",
       "34552              24484.0            24465.0            56.96         69.76  \n",
       "34553              24033.0            24068.0            67.32         73.48  \n",
       "34554              24053.0            24018.0            68.68         77.65  \n",
       "34555              25203.0            25036.0            70.46         76.23  \n",
       "34556              27579.0            27411.0            72.82         75.54  \n",
       "\n",
       "[5 rows x 29 columns]"
      ]
     },
     "execution_count": 4,
     "metadata": {},
     "output_type": "execute_result"
    }
   ],
   "source": [
    "# Download energy_data.csv.zip from https://www.kaggle.com/datasets/nicholasjhana/energy-consumption-generation-prices-and-weather\n",
    "\n",
    "dataset_path = data_path / \"energy_dataset.csv.zip\"\n",
    "timestamp_column = \"time\"\n",
    "\n",
    "target_column = \"total load actual\"\n",
    "\n",
    "context_length = 512  # set by the pretrained model we will use\n",
    "\n",
    "data = pd.read_csv(\n",
    "    dataset_path,\n",
    "    parse_dates=[timestamp_column],\n",
    ")\n",
    "\n",
    "data = data.ffill()\n",
    "\n",
    "data = data.iloc[-context_length:,]\n",
    "\n",
    "print(data.shape)\n",
    "data.head()"
   ]
  },
  {
   "attachments": {},
   "cell_type": "markdown",
   "id": "75c2d666-2404-4e78-b564-ea8aec8afa2d",
   "metadata": {},
   "source": [
    "## Load pretrained Granite-TimeSeries-TTM model (zero-shot)\n",
    "The **TTM** model supports huggingface model interface, allowing easy API for loading the saved models."
   ]
  },
  {
   "cell_type": "code",
   "execution_count": 5,
   "id": "eed3fe8b-b654-4fa4-9671-ce5ecd9e0b7b",
   "metadata": {},
   "outputs": [
    {
     "name": "stdout",
     "output_type": "stream",
     "text": [
      "TTM Model parameters: 805280\n"
     ]
    }
   ],
   "source": [
    "zeroshot_model = TinyTimeMixerForPrediction.from_pretrained(\n",
    "    \"ibm-granite/granite-timeseries-ttm-v1\", num_input_channels=1\n",
    ")\n",
    "model_parameters = sum(p.numel() for p in zeroshot_model.parameters() if p.requires_grad)\n",
    "print(\"TTM Model parameters:\", model_parameters)"
   ]
  },
  {
   "cell_type": "markdown",
   "id": "b6ab206c",
   "metadata": {},
   "source": [
    "### Create a time series forecasting pipeline"
   ]
  },
  {
   "cell_type": "code",
   "execution_count": 6,
   "id": "d9aa0f26",
   "metadata": {},
   "outputs": [
    {
     "name": "stderr",
     "output_type": "stream",
     "text": [
      "Hardware accelerator e.g. GPU is available in the environment, but no `device` argument is passed to the `Pipeline` object. Model will be on CPU.\n"
     ]
    },
    {
     "data": {
      "text/html": [
       "<div>\n",
       "<style scoped>\n",
       "    .dataframe tbody tr th:only-of-type {\n",
       "        vertical-align: middle;\n",
       "    }\n",
       "\n",
       "    .dataframe tbody tr th {\n",
       "        vertical-align: top;\n",
       "    }\n",
       "\n",
       "    .dataframe thead th {\n",
       "        text-align: right;\n",
       "    }\n",
       "</style>\n",
       "<table border=\"1\" class=\"dataframe\">\n",
       "  <thead>\n",
       "    <tr style=\"text-align: right;\">\n",
       "      <th></th>\n",
       "      <th>time</th>\n",
       "      <th>total load actual_prediction</th>\n",
       "    </tr>\n",
       "  </thead>\n",
       "  <tbody>\n",
       "    <tr>\n",
       "      <th>0</th>\n",
       "      <td>2019-01-01 00:00:00+01:00</td>\n",
       "      <td>23504.996094</td>\n",
       "    </tr>\n",
       "    <tr>\n",
       "      <th>1</th>\n",
       "      <td>2019-01-01 01:00:00+01:00</td>\n",
       "      <td>22338.626953</td>\n",
       "    </tr>\n",
       "    <tr>\n",
       "      <th>2</th>\n",
       "      <td>2019-01-01 02:00:00+01:00</td>\n",
       "      <td>21448.902344</td>\n",
       "    </tr>\n",
       "    <tr>\n",
       "      <th>3</th>\n",
       "      <td>2019-01-01 03:00:00+01:00</td>\n",
       "      <td>20982.527344</td>\n",
       "    </tr>\n",
       "    <tr>\n",
       "      <th>4</th>\n",
       "      <td>2019-01-01 04:00:00+01:00</td>\n",
       "      <td>20697.185547</td>\n",
       "    </tr>\n",
       "  </tbody>\n",
       "</table>\n",
       "</div>"
      ],
      "text/plain": [
       "                       time  total load actual_prediction\n",
       "0 2019-01-01 00:00:00+01:00                  23504.996094\n",
       "1 2019-01-01 01:00:00+01:00                  22338.626953\n",
       "2 2019-01-01 02:00:00+01:00                  21448.902344\n",
       "3 2019-01-01 03:00:00+01:00                  20982.527344\n",
       "4 2019-01-01 04:00:00+01:00                  20697.185547"
      ]
     },
     "execution_count": 6,
     "metadata": {},
     "output_type": "execute_result"
    }
   ],
   "source": [
    "pipeline = TimeSeriesForecastingPipeline(\n",
    "    zeroshot_model, timestamp_column=timestamp_column, target_columns=[target_column], explode_forecasts=True, freq=\"h\", id_columns=[]\n",
    ")\n",
    "zeroshot_forecast = pipeline(data)\n",
    "zeroshot_forecast.head()"
   ]
  },
  {
   "cell_type": "markdown",
   "id": "5c4676bd",
   "metadata": {},
   "source": [
    "### Plot the results"
   ]
  },
  {
   "cell_type": "code",
   "execution_count": 7,
   "id": "ba065a24",
   "metadata": {},
   "outputs": [
    {
     "data": {
      "image/png": "[encoded data removed]",
      "text/plain": [
       "<Figure size 1000x200 with 1 Axes>"
      ]
     },
     "metadata": {},
     "output_type": "display_data"
    }
   ],
   "source": [
    "plot_predictions(\n",
    "    input_df=data,\n",
    "    exploded_predictions_df=zeroshot_forecast,\n",
    "    freq=\"h\",\n",
    "    timestamp_column=timestamp_column,\n",
    "    channel=target_column,\n",
    "    indices=[-1],\n",
    "    num_plots=1\n",
    ")"
   ]
  },
  {
   "cell_type": "markdown",
   "id": "5123e226-1a66-434c-a400-f7be59974d5d",
   "metadata": {},
   "source": [
    "## Useful links\n",
    "\n",
    "TinyTimeMixer paper: https://arxiv.org/abs/2401.03955  \n",
    "\n",
    "Granite-TimeSeries-TTM model: https://huggingface.co/ibm-granite/granite-timeseries-ttm-v1  \n",
    "\n",
    "Publicly available tools for working with our models: https://github.com/ibm-granite/granite-tsfm"
   ]
  },
  {
   "cell_type": "markdown",
   "id": "53116412",
   "metadata": {},
   "source": [
    "© 2024 IBM Corporation"
   ]
  }
 ],
 "metadata": {
  "kernelspec": {
   "display_name": "Python 3 (ipykernel)",
   "language": "python",
   "name": "python3"
  },
  "language_info": {
   "codemirror_mode": {
    "name": "ipython",
    "version": 3
   },
   "file_extension": ".py",
   "mimetype": "text/x-python",
   "name": "python",
   "nbconvert_exporter": "python",
   "pygments_lexer": "ipython3",
   "version": "3.12.4"
  }
 },
 "nbformat": 4,
 "nbformat_minor": 5
}
