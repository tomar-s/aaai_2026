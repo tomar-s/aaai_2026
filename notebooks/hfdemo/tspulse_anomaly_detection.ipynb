{
 "cells": [
  {
   "cell_type": "code",
   "execution_count": 1,
   "id": "ec0c30c4-e8a9-4e58-add0-84660c21d6a7",
   "metadata": {},
   "outputs": [],
   "source": [
    "import matplotlib.pyplot as plt\n",
    "import numpy as np\n",
    "import pandas as pd\n",
    "\n",
    "from tsfm_public.models.tspulse.modeling_tspulse import TSPulseForReconstruction\n",
    "from tsfm_public.toolkit.ad_helpers import AnomalyScoreMethods\n",
    "from tsfm_public.toolkit.time_series_anomaly_detection_pipeline import TimeSeriesAnomalyDetectionPipeline"
   ]
  },
  {
   "cell_type": "markdown",
   "id": "64faaffa-0faf-4478-b913-8ef2a17af7f2",
   "metadata": {},
   "source": [
    "# Example Datafile\n",
    "\n",
    "Data instance from IOPS dataset ([Paper](https://arxiv.org/html/2402.10802v1)). The data example is a part of the IOPS dataset.\n",
    "\n",
    "The IOPS data set is an anonymized dataset with performance indicators that reflect the scale, quality of web services, and health status of a machine.\n",
    "\n"
   ]
  },
  {
   "cell_type": "code",
   "execution_count": 2,
   "id": "ab7656fa-3193-4169-9929-643a3d4a80a2",
   "metadata": {},
   "outputs": [],
   "source": [
    "data_path = \"https://huggingface.co/datasets/AutonLab/Timeseries-PILE/resolve/main/anomaly_detection/TSB-UAD-Public/IOPS/KPI-4d2af31a-9916-3d9f-8a8e-8a268a48c095.test.out\""
   ]
  },
  {
   "cell_type": "markdown",
   "id": "29356d84-583a-4846-9244-8a5f3e7aa23d",
   "metadata": {},
   "source": [
    "\n",
    "## Helper Functions for Data Loading and Processing\n",
    "\n",
    "`load_data` loads the large dataset in chunks.\n",
    "\n",
    "`attach_timestamp_column` current pipeline expects a timestamp column in the input. The IOPS dataset does not have an explicit time column specified. This helper function attach a dummy timestamp column to the dataset.\n",
    "\n"
   ]
  },
  {
   "cell_type": "code",
   "execution_count": 3,
   "id": "1978a2fb-f1c3-4cc3-a06d-ff94fb86e3a7",
   "metadata": {},
   "outputs": [],
   "source": [
    "def load_data(file_path: str, max_length: int, min_length: int):\n",
    "    data = []\n",
    "    extra_args = {}\n",
    "    if file_path.endswith(\"gz\"):\n",
    "        extra_args[\"compression\"] = \"gzip\"\n",
    "    for chunk in pd.read_csv(file_path, header=None, sep=\",\", chunksize=max_length, *extra_args):\n",
    "        if (chunk is None) or (chunk.ndim != 2):\n",
    "            break\n",
    "        chunk.columns = [\"x\", \"y\"]\n",
    "        chunk[\"x\"] = chunk.x.interpolate(method=\"cubic\").ffill().bfill()\n",
    "        chunk[\"y\"] = chunk.y.ffill().bfill()\n",
    "        if chunk.shape[0] > min_length:\n",
    "            data.append(chunk)\n",
    "        elif len(data) > 0:\n",
    "            data[-1] = pd.concat([data[-1], chunk], axis=0)\n",
    "    return data\n",
    "\n",
    "\n",
    "def attach_timestamp_column(\n",
    "    df: pd.DataFrame, time_col: str = \"timestamp\", freq: str = \"D\", start_date: str = \"2022-01-01\"\n",
    "):\n",
    "    n = df.shape[0]\n",
    "    if time_col not in df:\n",
    "        df[time_col] = pd.date_range(start_date, freq=freq, periods=n)\n",
    "    return df"
   ]
  },
  {
   "cell_type": "code",
   "execution_count": 4,
   "id": "cfb9e54d-6533-4c31-bbfb-ea13ef907b2c",
   "metadata": {},
   "outputs": [],
   "source": [
    "max_length, min_length = 5_000, 2_000\n",
    "\n",
    "data = load_data(data_path, max_length, min_length)"
   ]
  },
  {
   "cell_type": "markdown",
   "id": "58701b89-963e-460f-a534-ccc72bf89196",
   "metadata": {},
   "source": [
    "## Loading ZeroShort TSPulseReconstruction Model"
   ]
  },
  {
   "cell_type": "code",
   "execution_count": 5,
   "id": "39ca6575-07ab-41b2-9227-c826978394ba",
   "metadata": {},
   "outputs": [],
   "source": [
    "path_to_tspulse_model = \"PATH TO TSPULSE MODEL\"\n",
    "zeroshot_model = TSPulseForReconstruction.from_pretrained(\n",
    "    path_to_tspulse_model,\n",
    "    num_input_channels=1,\n",
    "    mask_type=\"user\",\n",
    ")"
   ]
  },
  {
   "cell_type": "markdown",
   "id": "8f46d401-8f89-4d44-b7a9-d3fc6ad0fdbf",
   "metadata": {},
   "source": [
    "## Instantiating pipeline"
   ]
  },
  {
   "cell_type": "code",
   "execution_count": 6,
   "id": "02b34161-40e1-4ef5-aaab-7d07661c85ae",
   "metadata": {},
   "outputs": [
    {
     "name": "stderr",
     "output_type": "stream",
     "text": [
      "Device set to use mps:0\n"
     ]
    }
   ],
   "source": [
    "pipeline = TimeSeriesAnomalyDetectionPipeline(\n",
    "    zeroshot_model,\n",
    "    timestamp_column=\"timestamp\",\n",
    "    target_columns=[\"x\"],\n",
    "    prediction_mode=\"+\".join(\n",
    "        [\n",
    "            AnomalyScoreMethods.PREDICTIVE.value,\n",
    "            AnomalyScoreMethods.TIME_IMPUTATION.value,\n",
    "            AnomalyScoreMethods.FREQUENCY_IMPUTATION.value,\n",
    "        ]\n",
    "    ),\n",
    "    aggr_win_size=64,\n",
    "    aggr_function=\"max\",\n",
    "    smoothing_window_size=16,\n",
    "    least_significant_scale=0.01,\n",
    "    least_significant_score=0.1,\n",
    ")"
   ]
  },
  {
   "cell_type": "code",
   "execution_count": 7,
   "id": "21d7b13f-dab9-4e91-8719-baac17661e3d",
   "metadata": {},
   "outputs": [
    {
     "data": {
      "text/html": [
       "<div>\n",
       "<style scoped>\n",
       "    .dataframe tbody tr th:only-of-type {\n",
       "        vertical-align: middle;\n",
       "    }\n",
       "\n",
       "    .dataframe tbody tr th {\n",
       "        vertical-align: top;\n",
       "    }\n",
       "\n",
       "    .dataframe thead th {\n",
       "        text-align: right;\n",
       "    }\n",
       "</style>\n",
       "<table border=\"1\" class=\"dataframe\">\n",
       "  <thead>\n",
       "    <tr style=\"text-align: right;\">\n",
       "      <th></th>\n",
       "      <th>x</th>\n",
       "      <th>y</th>\n",
       "      <th>timestamp</th>\n",
       "    </tr>\n",
       "  </thead>\n",
       "  <tbody>\n",
       "    <tr>\n",
       "      <th>50000</th>\n",
       "      <td>5.00</td>\n",
       "      <td>0</td>\n",
       "      <td>2022-01-01 00:00:00</td>\n",
       "    </tr>\n",
       "    <tr>\n",
       "      <th>50001</th>\n",
       "      <td>4.80</td>\n",
       "      <td>0</td>\n",
       "      <td>2022-01-01 00:00:01</td>\n",
       "    </tr>\n",
       "    <tr>\n",
       "      <th>50002</th>\n",
       "      <td>5.25</td>\n",
       "      <td>0</td>\n",
       "      <td>2022-01-01 00:00:02</td>\n",
       "    </tr>\n",
       "    <tr>\n",
       "      <th>50003</th>\n",
       "      <td>4.95</td>\n",
       "      <td>0</td>\n",
       "      <td>2022-01-01 00:00:03</td>\n",
       "    </tr>\n",
       "    <tr>\n",
       "      <th>50004</th>\n",
       "      <td>5.05</td>\n",
       "      <td>0</td>\n",
       "      <td>2022-01-01 00:00:04</td>\n",
       "    </tr>\n",
       "  </tbody>\n",
       "</table>\n",
       "</div>"
      ],
      "text/plain": [
       "          x  y           timestamp\n",
       "50000  5.00  0 2022-01-01 00:00:00\n",
       "50001  4.80  0 2022-01-01 00:00:01\n",
       "50002  5.25  0 2022-01-01 00:00:02\n",
       "50003  4.95  0 2022-01-01 00:00:03\n",
       "50004  5.05  0 2022-01-01 00:00:04"
      ]
     },
     "execution_count": 7,
     "metadata": {},
     "output_type": "execute_result"
    }
   ],
   "source": [
    "df_input = attach_timestamp_column(data[10], time_col=\"timestamp\", freq=\"s\")\n",
    "df_input.head()"
   ]
  },
  {
   "cell_type": "markdown",
   "id": "c4422346-da5a-4542-b519-cc2d02843787",
   "metadata": {},
   "source": [
    "## Computing Anomaly Score With Anomaly Pipeline "
   ]
  },
  {
   "cell_type": "code",
   "execution_count": 8,
   "id": "7e8b8511-b57b-4fbf-a4ad-b57910ec218f",
   "metadata": {},
   "outputs": [
    {
     "name": "stderr",
     "output_type": "stream",
     "text": [
      "/Users/sumanta/miniforge3/envs/tsad/lib/python3.12/site-packages/torch/nn/_reduction.py:51: UserWarning: size_average and reduce args will be deprecated, please use reduction='none' instead.\n",
      "  warnings.warn(warning.format(ret))\n"
     ]
    },
    {
     "name": "stdout",
     "output_type": "stream",
     "text": [
      "CPU times: user 1e+03 ns, sys: 0 ns, total: 1e+03 ns\n",
      "Wall time: 1.91 μs\n"
     ]
    },
    {
     "name": "stderr",
     "output_type": "stream",
     "text": [
      "/Users/sumanta/miniforge3/envs/tsad/lib/python3.12/site-packages/torch/nn/modules/loss.py:610: UserWarning: Using a target size (torch.Size([128, 1, 1])) that is different to the input size (torch.Size([128, 16, 1])). This will likely lead to incorrect results due to broadcasting. Please ensure they have the same size.\n",
      "  return F.mse_loss(input, target, reduction=self.reduction)\n",
      "/Users/sumanta/miniforge3/envs/tsad/lib/python3.12/site-packages/torch/nn/modules/loss.py:610: UserWarning: Using a target size (torch.Size([8, 1, 1])) that is different to the input size (torch.Size([8, 16, 1])). This will likely lead to incorrect results due to broadcasting. Please ensure they have the same size.\n",
      "  return F.mse_loss(input, target, reduction=self.reduction)\n"
     ]
    }
   ],
   "source": [
    "%time\n",
    "result = pipeline(df_input, batch_size=256, predictive_score_smoothing=True)"
   ]
  },
  {
   "cell_type": "markdown",
   "id": "ecf75a65-5dea-4d44-bdf5-6fad50c3563e",
   "metadata": {},
   "source": [
    "## Plotting the score vs TRUE Anomaly Marks"
   ]
  },
  {
   "cell_type": "code",
   "execution_count": 9,
   "id": "42be67c5-2ac1-4ba5-9b15-b686c53e84e4",
   "metadata": {},
   "outputs": [
    {
     "data": {
      "image/png": "[encoded data removed]",
      "text/plain": [
       "<Figure size 1500x300 with 2 Axes>"
      ]
     },
     "metadata": {},
     "output_type": "display_data"
    }
   ],
   "source": [
    "fig, ax = plt.subplots(1, 1, figsize=(15, 3))\n",
    "ax2 = ax.twinx()\n",
    "result.x.plot(ax=ax, color=\"gray\", linewidth=0.5)\n",
    "result.anomaly_score.plot(ax=ax2, color=\"orange\", label=\"Anomaly Score\")\n",
    "result.y.plot(ax=ax2, color=\"red\", label=\"Anomaly Event\")\n",
    "ax2.legend()\n",
    "# ax2.set_yticks([])\n",
    "ax.set_title(\"Anomaly Detection Pipeline\", fontsize=16)\n",
    "for s in [\"top\", \"right\"]:\n",
    "    ax.spines[s].set_visible(False)\n",
    "    ax2.spines[s].set_visible(False)"
   ]
  },
  {
   "cell_type": "markdown",
   "id": "ee1c5b4e-b3a1-4a44-909e-4a522aed5a2e",
   "metadata": {},
   "source": [
    "Anomlay result attaches anomaly scores as a new column. By default the scores are scaled between (0-1)"
   ]
  },
  {
   "cell_type": "code",
   "execution_count": 10,
   "id": "a0ced398-8257-4d1c-b061-27821d2ace6a",
   "metadata": {},
   "outputs": [
    {
     "data": {
      "text/html": [
       "<div>\n",
       "<style scoped>\n",
       "    .dataframe tbody tr th:only-of-type {\n",
       "        vertical-align: middle;\n",
       "    }\n",
       "\n",
       "    .dataframe tbody tr th {\n",
       "        vertical-align: top;\n",
       "    }\n",
       "\n",
       "    .dataframe thead th {\n",
       "        text-align: right;\n",
       "    }\n",
       "</style>\n",
       "<table border=\"1\" class=\"dataframe\">\n",
       "  <thead>\n",
       "    <tr style=\"text-align: right;\">\n",
       "      <th></th>\n",
       "      <th>x</th>\n",
       "      <th>y</th>\n",
       "      <th>timestamp</th>\n",
       "      <th>anomaly_score</th>\n",
       "    </tr>\n",
       "  </thead>\n",
       "  <tbody>\n",
       "    <tr>\n",
       "      <th>50000</th>\n",
       "      <td>5.00</td>\n",
       "      <td>0</td>\n",
       "      <td>2022-01-01 00:00:00</td>\n",
       "      <td>0.053295</td>\n",
       "    </tr>\n",
       "    <tr>\n",
       "      <th>50001</th>\n",
       "      <td>4.80</td>\n",
       "      <td>0</td>\n",
       "      <td>2022-01-01 00:00:01</td>\n",
       "      <td>0.059957</td>\n",
       "    </tr>\n",
       "    <tr>\n",
       "      <th>50002</th>\n",
       "      <td>5.25</td>\n",
       "      <td>0</td>\n",
       "      <td>2022-01-01 00:00:02</td>\n",
       "      <td>0.066619</td>\n",
       "    </tr>\n",
       "    <tr>\n",
       "      <th>50003</th>\n",
       "      <td>4.95</td>\n",
       "      <td>0</td>\n",
       "      <td>2022-01-01 00:00:03</td>\n",
       "      <td>0.073281</td>\n",
       "    </tr>\n",
       "    <tr>\n",
       "      <th>50004</th>\n",
       "      <td>5.05</td>\n",
       "      <td>0</td>\n",
       "      <td>2022-01-01 00:00:04</td>\n",
       "      <td>0.079943</td>\n",
       "    </tr>\n",
       "  </tbody>\n",
       "</table>\n",
       "</div>"
      ],
      "text/plain": [
       "          x  y           timestamp  anomaly_score\n",
       "50000  5.00  0 2022-01-01 00:00:00       0.053295\n",
       "50001  4.80  0 2022-01-01 00:00:01       0.059957\n",
       "50002  5.25  0 2022-01-01 00:00:02       0.066619\n",
       "50003  4.95  0 2022-01-01 00:00:03       0.073281\n",
       "50004  5.05  0 2022-01-01 00:00:04       0.079943"
      ]
     },
     "execution_count": 10,
     "metadata": {},
     "output_type": "execute_result"
    }
   ],
   "source": [
    "result.head(5)"
   ]
  },
  {
   "cell_type": "markdown",
   "id": "37f02989-76ee-4369-b92d-32f82ffe454a",
   "metadata": {},
   "source": [
    "## Threshold Based Anomaly Marking"
   ]
  },
  {
   "cell_type": "code",
   "execution_count": 11,
   "id": "c60fb0b8-c857-4b94-887b-958d1ce50c1c",
   "metadata": {},
   "outputs": [
    {
     "data": {
      "text/html": [
       "<div>\n",
       "<style scoped>\n",
       "    .dataframe tbody tr th:only-of-type {\n",
       "        vertical-align: middle;\n",
       "    }\n",
       "\n",
       "    .dataframe tbody tr th {\n",
       "        vertical-align: top;\n",
       "    }\n",
       "\n",
       "    .dataframe thead th {\n",
       "        text-align: right;\n",
       "    }\n",
       "</style>\n",
       "<table border=\"1\" class=\"dataframe\">\n",
       "  <thead>\n",
       "    <tr style=\"text-align: right;\">\n",
       "      <th></th>\n",
       "      <th>x</th>\n",
       "      <th>y</th>\n",
       "      <th>timestamp</th>\n",
       "      <th>anomaly_score</th>\n",
       "      <th>detections</th>\n",
       "    </tr>\n",
       "  </thead>\n",
       "  <tbody>\n",
       "    <tr>\n",
       "      <th>50000</th>\n",
       "      <td>5.00</td>\n",
       "      <td>0</td>\n",
       "      <td>2022-01-01 00:00:00</td>\n",
       "      <td>0.053295</td>\n",
       "      <td>0.0</td>\n",
       "    </tr>\n",
       "    <tr>\n",
       "      <th>50001</th>\n",
       "      <td>4.80</td>\n",
       "      <td>0</td>\n",
       "      <td>2022-01-01 00:00:01</td>\n",
       "      <td>0.059957</td>\n",
       "      <td>0.0</td>\n",
       "    </tr>\n",
       "    <tr>\n",
       "      <th>50002</th>\n",
       "      <td>5.25</td>\n",
       "      <td>0</td>\n",
       "      <td>2022-01-01 00:00:02</td>\n",
       "      <td>0.066619</td>\n",
       "      <td>0.0</td>\n",
       "    </tr>\n",
       "    <tr>\n",
       "      <th>50003</th>\n",
       "      <td>4.95</td>\n",
       "      <td>0</td>\n",
       "      <td>2022-01-01 00:00:03</td>\n",
       "      <td>0.073281</td>\n",
       "      <td>0.0</td>\n",
       "    </tr>\n",
       "    <tr>\n",
       "      <th>50004</th>\n",
       "      <td>5.05</td>\n",
       "      <td>0</td>\n",
       "      <td>2022-01-01 00:00:04</td>\n",
       "      <td>0.079943</td>\n",
       "      <td>0.0</td>\n",
       "    </tr>\n",
       "  </tbody>\n",
       "</table>\n",
       "</div>"
      ],
      "text/plain": [
       "          x  y           timestamp  anomaly_score  detections\n",
       "50000  5.00  0 2022-01-01 00:00:00       0.053295         0.0\n",
       "50001  4.80  0 2022-01-01 00:00:01       0.059957         0.0\n",
       "50002  5.25  0 2022-01-01 00:00:02       0.066619         0.0\n",
       "50003  4.95  0 2022-01-01 00:00:03       0.073281         0.0\n",
       "50004  5.05  0 2022-01-01 00:00:04       0.079943         0.0"
      ]
     },
     "execution_count": 11,
     "metadata": {},
     "output_type": "execute_result"
    }
   ],
   "source": [
    "anomaly_threshold = 0.6\n",
    "result[\"detections\"] = (result[\"anomaly_score\"] > anomaly_threshold).astype(float)\n",
    "\n",
    "result.head()"
   ]
  },
  {
   "cell_type": "markdown",
   "id": "49862381-89aa-402f-897a-110eebf1c30d",
   "metadata": {},
   "source": [
    "## Computing F1 Score for detection"
   ]
  },
  {
   "cell_type": "code",
   "execution_count": 12,
   "id": "df59a042-1692-4320-8340-9095f03affb2",
   "metadata": {},
   "outputs": [
    {
     "data": {
      "text/plain": [
       "'F1 score: 0.79'"
      ]
     },
     "metadata": {},
     "output_type": "display_data"
    },
    {
     "data": {
      "text/html": [
       "<div>\n",
       "<style scoped>\n",
       "    .dataframe tbody tr th:only-of-type {\n",
       "        vertical-align: middle;\n",
       "    }\n",
       "\n",
       "    .dataframe tbody tr th {\n",
       "        vertical-align: top;\n",
       "    }\n",
       "\n",
       "    .dataframe thead th {\n",
       "        text-align: right;\n",
       "    }\n",
       "</style>\n",
       "<table border=\"1\" class=\"dataframe\">\n",
       "  <thead>\n",
       "    <tr style=\"text-align: right;\">\n",
       "      <th></th>\n",
       "      <th>Predicted Anomaly: No</th>\n",
       "      <th>Predicted Anomaly: Yes</th>\n",
       "    </tr>\n",
       "  </thead>\n",
       "  <tbody>\n",
       "    <tr>\n",
       "      <th>True Anomaly: No</th>\n",
       "      <td>4957</td>\n",
       "      <td>5</td>\n",
       "    </tr>\n",
       "    <tr>\n",
       "      <th>True Anomaly: Yes</th>\n",
       "      <td>10</td>\n",
       "      <td>28</td>\n",
       "    </tr>\n",
       "  </tbody>\n",
       "</table>\n",
       "</div>"
      ],
      "text/plain": [
       "                   Predicted Anomaly: No  Predicted Anomaly: Yes\n",
       "True Anomaly: No                    4957                       5\n",
       "True Anomaly: Yes                     10                      28"
      ]
     },
     "metadata": {},
     "output_type": "display_data"
    }
   ],
   "source": [
    "import pandas as pd\n",
    "from sklearn.metrics import confusion_matrix, f1_score\n",
    "\n",
    "\n",
    "matrix = confusion_matrix(result[\"y\"].values, result[\"detections\"].values)\n",
    "matrix = pd.DataFrame(\n",
    "    matrix,\n",
    "    columns=[\"Predicted Anomaly: No\", \"Predicted Anomaly: Yes\"],\n",
    "    index=[\"True Anomaly: No\", \"True Anomaly: Yes\"],\n",
    ")\n",
    "\n",
    "f_score = f1_score(result[\"y\"].values, result[\"detections\"].values, average=\"binary\")\n",
    "\n",
    "display(f\"F1 score: {f_score:.2f}\")\n",
    "display(matrix)"
   ]
  },
  {
   "cell_type": "markdown",
   "id": "2eb08e19-624a-4b80-9a4c-37dfd2002f9a",
   "metadata": {},
   "source": [
    "## TSPulse supports multiple prediction modes"
   ]
  },
  {
   "cell_type": "code",
   "execution_count": 13,
   "id": "bc486be9-dc49-481c-8292-5183b0274cbf",
   "metadata": {},
   "outputs": [
    {
     "data": {
      "text/plain": [
       "\"All Prediction Modes: ['forecast', 'time', 'fft', 'forecast+time+fft']\""
      ]
     },
     "metadata": {},
     "output_type": "display_data"
    }
   ],
   "source": [
    "prediction_modes = [\n",
    "    AnomalyScoreMethods.PREDICTIVE.value,\n",
    "    AnomalyScoreMethods.TIME_IMPUTATION.value,\n",
    "    AnomalyScoreMethods.FREQUENCY_IMPUTATION.value,\n",
    "]\n",
    "\n",
    "prediction_modes.append(\"+\".join(prediction_modes))\n",
    "\n",
    "display(f\"All Prediction Modes: {prediction_modes}\")"
   ]
  },
  {
   "cell_type": "markdown",
   "id": "9210c509-9815-4283-ac27-7abd337f3290",
   "metadata": {},
   "source": [
    "## Mode Triangulation\n",
    "\n",
    "With an available test data, it is possible to identify best prediction mode for anomaly detection in a given dataset."
   ]
  },
  {
   "cell_type": "code",
   "execution_count": 14,
   "id": "d24831a7-6c38-441c-9e70-8182b6f3ecce",
   "metadata": {},
   "outputs": [
    {
     "name": "stderr",
     "output_type": "stream",
     "text": [
      "Device set to use mps:0\n",
      "/Users/sumanta/miniforge3/envs/tsad/lib/python3.12/site-packages/torch/nn/_reduction.py:51: UserWarning: size_average and reduce args will be deprecated, please use reduction='none' instead.\n",
      "  warnings.warn(warning.format(ret))\n",
      "/Users/sumanta/miniforge3/envs/tsad/lib/python3.12/site-packages/torch/nn/modules/loss.py:610: UserWarning: Using a target size (torch.Size([128, 1, 1])) that is different to the input size (torch.Size([128, 16, 1])). This will likely lead to incorrect results due to broadcasting. Please ensure they have the same size.\n",
      "  return F.mse_loss(input, target, reduction=self.reduction)\n",
      "/Users/sumanta/miniforge3/envs/tsad/lib/python3.12/site-packages/torch/nn/modules/loss.py:610: UserWarning: Using a target size (torch.Size([8, 1, 1])) that is different to the input size (torch.Size([8, 16, 1])). This will likely lead to incorrect results due to broadcasting. Please ensure they have the same size.\n",
      "  return F.mse_loss(input, target, reduction=self.reduction)\n",
      "Device set to use mps:0\n",
      "/Users/sumanta/miniforge3/envs/tsad/lib/python3.12/site-packages/torch/nn/_reduction.py:51: UserWarning: size_average and reduce args will be deprecated, please use reduction='none' instead.\n",
      "  warnings.warn(warning.format(ret))\n",
      "Device set to use mps:0\n",
      "/Users/sumanta/miniforge3/envs/tsad/lib/python3.12/site-packages/torch/nn/_reduction.py:51: UserWarning: size_average and reduce args will be deprecated, please use reduction='none' instead.\n",
      "  warnings.warn(warning.format(ret))\n",
      "Device set to use mps:0\n",
      "/Users/sumanta/miniforge3/envs/tsad/lib/python3.12/site-packages/torch/nn/_reduction.py:51: UserWarning: size_average and reduce args will be deprecated, please use reduction='none' instead.\n",
      "  warnings.warn(warning.format(ret))\n",
      "/Users/sumanta/miniforge3/envs/tsad/lib/python3.12/site-packages/torch/nn/modules/loss.py:610: UserWarning: Using a target size (torch.Size([128, 1, 1])) that is different to the input size (torch.Size([128, 16, 1])). This will likely lead to incorrect results due to broadcasting. Please ensure they have the same size.\n",
      "  return F.mse_loss(input, target, reduction=self.reduction)\n",
      "/Users/sumanta/miniforge3/envs/tsad/lib/python3.12/site-packages/torch/nn/modules/loss.py:610: UserWarning: Using a target size (torch.Size([8, 1, 1])) that is different to the input size (torch.Size([8, 16, 1])). This will likely lead to incorrect results due to broadcasting. Please ensure they have the same size.\n",
      "  return F.mse_loss(input, target, reduction=self.reduction)\n"
     ]
    }
   ],
   "source": [
    "f_scores = []\n",
    "\n",
    "for mode in prediction_modes:\n",
    "    pipeline = TimeSeriesAnomalyDetectionPipeline(\n",
    "        zeroshot_model,\n",
    "        timestamp_column=\"timestamp\",\n",
    "        target_columns=[\"x\"],\n",
    "        prediction_mode=mode,\n",
    "        aggr_win_size=64,\n",
    "        aggr_function=\"max\",\n",
    "        smoothing_window_size=16,\n",
    "        least_significant_scale=0.01,\n",
    "        least_significant_score=0.1,\n",
    "    )\n",
    "    result = pipeline(df_input, batch_size=256, predictive_score_smoothing=True)\n",
    "    result[\"detections\"] = (result[\"anomaly_score\"] > anomaly_threshold).astype(float)\n",
    "    f_score = f1_score(result[\"y\"].values, result[\"detections\"].values, average=\"binary\")\n",
    "    f_scores.append(f_score)"
   ]
  },
  {
   "cell_type": "markdown",
   "id": "391680ec-1ff3-4bce-8dcd-f7c4c7a2c062",
   "metadata": {},
   "source": [
    "Best mode selection is metric or KPI driven. Here we use F1 Score for mode selection"
   ]
  },
  {
   "cell_type": "code",
   "execution_count": 15,
   "id": "82cd13f2-fa5a-4907-bcdf-3febdc24b4f7",
   "metadata": {},
   "outputs": [
    {
     "name": "stdout",
     "output_type": "stream",
     "text": [
      "Best Prediction mode for train set: fft\n"
     ]
    }
   ],
   "source": [
    "selected_mode = prediction_modes[np.argmax(f_scores)]\n",
    "\n",
    "print(f\"Best Prediction mode for train set: {selected_mode}\")"
   ]
  },
  {
   "cell_type": "markdown",
   "id": "7a643c63-9630-4cd0-a642-ce2c97d02705",
   "metadata": {},
   "source": [
    "## Test Dataset"
   ]
  },
  {
   "cell_type": "code",
   "execution_count": 16,
   "id": "2ed1e41d-7014-4d0b-b2cb-f9e6b5898529",
   "metadata": {},
   "outputs": [
    {
     "data": {
      "text/html": [
       "<div>\n",
       "<style scoped>\n",
       "    .dataframe tbody tr th:only-of-type {\n",
       "        vertical-align: middle;\n",
       "    }\n",
       "\n",
       "    .dataframe tbody tr th {\n",
       "        vertical-align: top;\n",
       "    }\n",
       "\n",
       "    .dataframe thead th {\n",
       "        text-align: right;\n",
       "    }\n",
       "</style>\n",
       "<table border=\"1\" class=\"dataframe\">\n",
       "  <thead>\n",
       "    <tr style=\"text-align: right;\">\n",
       "      <th></th>\n",
       "      <th>x</th>\n",
       "      <th>y</th>\n",
       "      <th>timestamp</th>\n",
       "    </tr>\n",
       "  </thead>\n",
       "  <tbody>\n",
       "    <tr>\n",
       "      <th>75000</th>\n",
       "      <td>5.05</td>\n",
       "      <td>0</td>\n",
       "      <td>2022-01-01 00:00:00</td>\n",
       "    </tr>\n",
       "    <tr>\n",
       "      <th>75001</th>\n",
       "      <td>5.10</td>\n",
       "      <td>0</td>\n",
       "      <td>2022-01-01 00:00:01</td>\n",
       "    </tr>\n",
       "    <tr>\n",
       "      <th>75002</th>\n",
       "      <td>4.95</td>\n",
       "      <td>0</td>\n",
       "      <td>2022-01-01 00:00:02</td>\n",
       "    </tr>\n",
       "    <tr>\n",
       "      <th>75003</th>\n",
       "      <td>5.65</td>\n",
       "      <td>0</td>\n",
       "      <td>2022-01-01 00:00:03</td>\n",
       "    </tr>\n",
       "    <tr>\n",
       "      <th>75004</th>\n",
       "      <td>5.05</td>\n",
       "      <td>0</td>\n",
       "      <td>2022-01-01 00:00:04</td>\n",
       "    </tr>\n",
       "  </tbody>\n",
       "</table>\n",
       "</div>"
      ],
      "text/plain": [
       "          x  y           timestamp\n",
       "75000  5.05  0 2022-01-01 00:00:00\n",
       "75001  5.10  0 2022-01-01 00:00:01\n",
       "75002  4.95  0 2022-01-01 00:00:02\n",
       "75003  5.65  0 2022-01-01 00:00:03\n",
       "75004  5.05  0 2022-01-01 00:00:04"
      ]
     },
     "execution_count": 16,
     "metadata": {},
     "output_type": "execute_result"
    }
   ],
   "source": [
    "df_test = attach_timestamp_column(data[15], time_col=\"timestamp\", freq=\"s\")\n",
    "df_test.head()"
   ]
  },
  {
   "cell_type": "markdown",
   "id": "02557ad1-3db1-47a2-83e3-da1ffc73e1bd",
   "metadata": {},
   "source": [
    "## Executing pipeline With Best Prediction Mode"
   ]
  },
  {
   "cell_type": "code",
   "execution_count": 17,
   "id": "72dd2e97-7899-4b0d-ae6a-604e92b7170f",
   "metadata": {},
   "outputs": [
    {
     "name": "stderr",
     "output_type": "stream",
     "text": [
      "Device set to use mps:0\n"
     ]
    }
   ],
   "source": [
    "best_pipeline = TimeSeriesAnomalyDetectionPipeline(\n",
    "    zeroshot_model,\n",
    "    timestamp_column=\"timestamp\",\n",
    "    target_columns=[\"x\"],\n",
    "    prediction_mode=selected_mode,\n",
    "    aggr_win_size=64,\n",
    "    aggr_function=\"max\",\n",
    "    smoothing_window_size=16,\n",
    "    least_significant_scale=0.01,\n",
    "    least_significant_score=0.1,\n",
    ")"
   ]
  },
  {
   "cell_type": "code",
   "execution_count": 18,
   "id": "0469e439-777a-4489-810b-77c9c307a908",
   "metadata": {},
   "outputs": [
    {
     "name": "stderr",
     "output_type": "stream",
     "text": [
      "/Users/sumanta/miniforge3/envs/tsad/lib/python3.12/site-packages/torch/nn/_reduction.py:51: UserWarning: size_average and reduce args will be deprecated, please use reduction='none' instead.\n",
      "  warnings.warn(warning.format(ret))\n",
      "/Users/sumanta/miniforge3/envs/tsad/lib/python3.12/site-packages/torch/nn/modules/loss.py:610: UserWarning: Using a target size (torch.Size([128, 1, 1])) that is different to the input size (torch.Size([128, 16, 1])). This will likely lead to incorrect results due to broadcasting. Please ensure they have the same size.\n",
      "  return F.mse_loss(input, target, reduction=self.reduction)\n"
     ]
    },
    {
     "name": "stdout",
     "output_type": "stream",
     "text": [
      "CPU times: user 1e+03 ns, sys: 0 ns, total: 1e+03 ns\n",
      "Wall time: 1.91 μs\n"
     ]
    },
    {
     "name": "stderr",
     "output_type": "stream",
     "text": [
      "/Users/sumanta/miniforge3/envs/tsad/lib/python3.12/site-packages/torch/nn/modules/loss.py:610: UserWarning: Using a target size (torch.Size([8, 1, 1])) that is different to the input size (torch.Size([8, 16, 1])). This will likely lead to incorrect results due to broadcasting. Please ensure they have the same size.\n",
      "  return F.mse_loss(input, target, reduction=self.reduction)\n"
     ]
    }
   ],
   "source": [
    "%time\n",
    "result_test = pipeline(df_test, batch_size=256, predictive_score_smoothing=True)"
   ]
  },
  {
   "cell_type": "code",
   "execution_count": 19,
   "id": "e210a5af-1dff-425f-885a-12fd40786fc8",
   "metadata": {},
   "outputs": [
    {
     "data": {
      "text/html": [
       "<div>\n",
       "<style scoped>\n",
       "    .dataframe tbody tr th:only-of-type {\n",
       "        vertical-align: middle;\n",
       "    }\n",
       "\n",
       "    .dataframe tbody tr th {\n",
       "        vertical-align: top;\n",
       "    }\n",
       "\n",
       "    .dataframe thead th {\n",
       "        text-align: right;\n",
       "    }\n",
       "</style>\n",
       "<table border=\"1\" class=\"dataframe\">\n",
       "  <thead>\n",
       "    <tr style=\"text-align: right;\">\n",
       "      <th></th>\n",
       "      <th>x</th>\n",
       "      <th>y</th>\n",
       "      <th>timestamp</th>\n",
       "      <th>anomaly_score</th>\n",
       "    </tr>\n",
       "  </thead>\n",
       "  <tbody>\n",
       "    <tr>\n",
       "      <th>75000</th>\n",
       "      <td>5.05</td>\n",
       "      <td>0</td>\n",
       "      <td>2022-01-01 00:00:00</td>\n",
       "      <td>0.030076</td>\n",
       "    </tr>\n",
       "    <tr>\n",
       "      <th>75001</th>\n",
       "      <td>5.10</td>\n",
       "      <td>0</td>\n",
       "      <td>2022-01-01 00:00:01</td>\n",
       "      <td>0.033836</td>\n",
       "    </tr>\n",
       "    <tr>\n",
       "      <th>75002</th>\n",
       "      <td>4.95</td>\n",
       "      <td>0</td>\n",
       "      <td>2022-01-01 00:00:02</td>\n",
       "      <td>0.037596</td>\n",
       "    </tr>\n",
       "    <tr>\n",
       "      <th>75003</th>\n",
       "      <td>5.65</td>\n",
       "      <td>0</td>\n",
       "      <td>2022-01-01 00:00:03</td>\n",
       "      <td>0.041355</td>\n",
       "    </tr>\n",
       "    <tr>\n",
       "      <th>75004</th>\n",
       "      <td>5.05</td>\n",
       "      <td>0</td>\n",
       "      <td>2022-01-01 00:00:04</td>\n",
       "      <td>0.045115</td>\n",
       "    </tr>\n",
       "  </tbody>\n",
       "</table>\n",
       "</div>"
      ],
      "text/plain": [
       "          x  y           timestamp  anomaly_score\n",
       "75000  5.05  0 2022-01-01 00:00:00       0.030076\n",
       "75001  5.10  0 2022-01-01 00:00:01       0.033836\n",
       "75002  4.95  0 2022-01-01 00:00:02       0.037596\n",
       "75003  5.65  0 2022-01-01 00:00:03       0.041355\n",
       "75004  5.05  0 2022-01-01 00:00:04       0.045115"
      ]
     },
     "execution_count": 19,
     "metadata": {},
     "output_type": "execute_result"
    }
   ],
   "source": [
    "result_test.head()"
   ]
  },
  {
   "cell_type": "markdown",
   "id": "491e9108-d998-41f7-ac95-58fa008bf0a5",
   "metadata": {},
   "source": [
    "## Plotting Scores For Test Data Split"
   ]
  },
  {
   "cell_type": "code",
   "execution_count": 20,
   "id": "edfc82bf-b989-4f7f-8117-1a965d40a41c",
   "metadata": {},
   "outputs": [
    {
     "data": {
      "image/png": "[encoded data removed]",
      "text/plain": [
       "<Figure size 1500x300 with 2 Axes>"
      ]
     },
     "metadata": {},
     "output_type": "display_data"
    }
   ],
   "source": [
    "fig, ax = plt.subplots(1, 1, figsize=(15, 3))\n",
    "ax2 = ax.twinx()\n",
    "result_test.set_index(\"timestamp\").x.plot(ax=ax, color=\"gray\", linewidth=0.5)\n",
    "result_test.set_index(\"timestamp\").anomaly_score.plot(ax=ax2, color=\"orange\", label=\"Anomaly Score\")\n",
    "result_test.set_index(\"timestamp\").y.plot(ax=ax2, color=\"red\", label=\"Anomaly Event\")\n",
    "ax2.legend()\n",
    "# ax2.set_yticks([])\n",
    "ax.set_title(\"Anomaly Detection Pipeline\", fontsize=16)\n",
    "for s in [\"top\", \"right\"]:\n",
    "    ax.spines[s].set_visible(False)\n",
    "    ax2.spines[s].set_visible(False)"
   ]
  },
  {
   "cell_type": "code",
   "execution_count": null,
   "id": "07eb236b-ef07-4e21-959d-04666cd6d8f0",
   "metadata": {},
   "outputs": [],
   "source": []
  }
 ],
 "metadata": {
  "kernelspec": {
   "display_name": "Python 3 (ipykernel)",
   "language": "python",
   "name": "python3"
  },
  "language_info": {
   "codemirror_mode": {
    "name": "ipython",
    "version": 3
   },
   "file_extension": ".py",
   "mimetype": "text/x-python",
   "name": "python",
   "nbconvert_exporter": "python",
   "pygments_lexer": "ipython3",
   "version": "3.12.10"
  }
 },
 "nbformat": 4,
 "nbformat_minor": 5
}
