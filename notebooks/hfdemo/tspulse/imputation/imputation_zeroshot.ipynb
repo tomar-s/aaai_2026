{
 "cells": [
  {
   "cell_type": "code",
   "execution_count": 1,
   "id": "67425436-c877-46cc-b604-74fc1ededb61",
   "metadata": {},
   "outputs": [],
   "source": [
    "import warnings\n",
    "\n",
    "import numpy as np\n",
    "import pandas as pd\n",
    "import torch\n",
    "from torch.utils.data import DataLoader\n",
    "from tqdm import tqdm\n",
    "\n",
    "\n",
    "warnings.filterwarnings(\"ignore\")"
   ]
  },
  {
   "cell_type": "code",
   "execution_count": 2,
   "id": "7ad2ee73-2750-4301-a47c-9295d3753cbb",
   "metadata": {},
   "outputs": [],
   "source": [
    "from utils import mask_generate, mse\n",
    "\n",
    "from tsfm_public import TimeSeriesPreprocessor, get_datasets\n",
    "from tsfm_public.models.tspulse import TSPulseForReconstruction"
   ]
  },
  {
   "cell_type": "code",
   "execution_count": 3,
   "id": "d5399321-7aef-4991-b139-62a4f2b98154",
   "metadata": {},
   "outputs": [],
   "source": [
    "device = \"cuda:0\" if torch.cuda.is_available() else \"cpu\"\n",
    "CONTEXT_LEN = 512\n",
    "FORECAST_LEN = 0"
   ]
  },
  {
   "cell_type": "markdown",
   "id": "6dda9573-91f6-46bd-b79b-091cecb92774",
   "metadata": {},
   "source": [
    "## Dataset, mask_ratio and mask_type to run TSPulse Zero-Shot Imputation"
   ]
  },
  {
   "cell_type": "code",
   "execution_count": 4,
   "id": "39704542-6fb4-4d86-8f83-707982a9eefc",
   "metadata": {},
   "outputs": [],
   "source": [
    "# inference on etth1\n",
    "dset = [\"ETTh1\"]  # valid datasets name : \"ETTh1\", \"ETTh2\", \"ETTm1\", \"ETTm2\", \"weather\", \"electricity\"\n",
    "m_r = [0.125, 0.25, 0.375, 0.5]\n",
    "m_t = [\"block\", \"hybrid\"]"
   ]
  },
  {
   "cell_type": "code",
   "execution_count": 5,
   "id": "a2280021-9005-46d5-bfae-747d86f1f294",
   "metadata": {},
   "outputs": [
    {
     "name": "stderr",
     "output_type": "stream",
     "text": [
      "100%|████████████████████████████████████████████████████████████████████████████████████████████████████████████████████████████████████████████████████| 46/46 [00:02<00:00, 16.73it/s]\n"
     ]
    },
    {
     "name": "stdout",
     "output_type": "stream",
     "text": [
      "Dataset = ETTh1  : Mask Type = block  : Mask Ratio = 0.125\n",
      "Mean Squarred Error (MSE)=0.209\n"
     ]
    },
    {
     "name": "stderr",
     "output_type": "stream",
     "text": [
      "100%|████████████████████████████████████████████████████████████████████████████████████████████████████████████████████████████████████████████████████| 46/46 [00:00<00:00, 49.21it/s]\n"
     ]
    },
    {
     "name": "stdout",
     "output_type": "stream",
     "text": [
      "Dataset = ETTh1  : Mask Type = block  : Mask Ratio = 0.25\n",
      "Mean Squarred Error (MSE)=0.225\n"
     ]
    },
    {
     "name": "stderr",
     "output_type": "stream",
     "text": [
      "100%|████████████████████████████████████████████████████████████████████████████████████████████████████████████████████████████████████████████████████| 46/46 [00:00<00:00, 51.18it/s]\n"
     ]
    },
    {
     "name": "stdout",
     "output_type": "stream",
     "text": [
      "Dataset = ETTh1  : Mask Type = block  : Mask Ratio = 0.375\n",
      "Mean Squarred Error (MSE)=0.246\n"
     ]
    },
    {
     "name": "stderr",
     "output_type": "stream",
     "text": [
      "100%|████████████████████████████████████████████████████████████████████████████████████████████████████████████████████████████████████████████████████| 46/46 [00:00<00:00, 50.59it/s]\n"
     ]
    },
    {
     "name": "stdout",
     "output_type": "stream",
     "text": [
      "Dataset = ETTh1  : Mask Type = block  : Mask Ratio = 0.5\n",
      "Mean Squarred Error (MSE)=0.272\n"
     ]
    },
    {
     "name": "stderr",
     "output_type": "stream",
     "text": [
      "100%|████████████████████████████████████████████████████████████████████████████████████████████████████████████████████████████████████████████████████| 46/46 [00:01<00:00, 39.88it/s]\n"
     ]
    },
    {
     "name": "stdout",
     "output_type": "stream",
     "text": [
      "Dataset = ETTh1  : Mask Type = hybrid  : Mask Ratio = 0.125\n",
      "Mean Squarred Error (MSE)=0.146\n"
     ]
    },
    {
     "name": "stderr",
     "output_type": "stream",
     "text": [
      "100%|████████████████████████████████████████████████████████████████████████████████████████████████████████████████████████████████████████████████████| 46/46 [00:00<00:00, 51.16it/s]\n"
     ]
    },
    {
     "name": "stdout",
     "output_type": "stream",
     "text": [
      "Dataset = ETTh1  : Mask Type = hybrid  : Mask Ratio = 0.25\n",
      "Mean Squarred Error (MSE)=0.155\n"
     ]
    },
    {
     "name": "stderr",
     "output_type": "stream",
     "text": [
      "100%|████████████████████████████████████████████████████████████████████████████████████████████████████████████████████████████████████████████████████| 46/46 [00:00<00:00, 51.04it/s]\n"
     ]
    },
    {
     "name": "stdout",
     "output_type": "stream",
     "text": [
      "Dataset = ETTh1  : Mask Type = hybrid  : Mask Ratio = 0.375\n",
      "Mean Squarred Error (MSE)=0.168\n"
     ]
    },
    {
     "name": "stderr",
     "output_type": "stream",
     "text": [
      "100%|████████████████████████████████████████████████████████████████████████████████████████████████████████████████████████████████████████████████████| 46/46 [00:00<00:00, 50.98it/s]\n"
     ]
    },
    {
     "name": "stdout",
     "output_type": "stream",
     "text": [
      "Dataset = ETTh1  : Mask Type = hybrid  : Mask Ratio = 0.5\n",
      "Mean Squarred Error (MSE)=0.183\n"
     ]
    }
   ],
   "source": [
    "for mask_type in m_t:\n",
    "    for DATASET in dset:\n",
    "        for mask_ratio in m_r:\n",
    "            if DATASET in [\"ETTh1\", \"ETTh2\", \"ETTm1\", \"ETTm2\"]:\n",
    "                batch_size = 64\n",
    "            else:\n",
    "                batch_size = 4\n",
    "\n",
    "            # Dataset\n",
    "            if DATASET in [\"ETTh1\", \"ETTh2\", \"ETTm1\", \"ETTm2\"]:\n",
    "                dataset_path = f\"https://raw.githubusercontent.com/zhouhaoyi/ETDataset/main/ETT-small/{DATASET}.csv\"\n",
    "            else:\n",
    "                dataset_path = f\"datasets/{DATASET}/{DATASET}.csv\"\n",
    "\n",
    "            timestamp_column = \"date\"\n",
    "            id_columns = []\n",
    "\n",
    "            if DATASET in [\"ETTh1\", \"ETTh2\"]:\n",
    "                split_config = {\n",
    "                    \"train\": [0, 8640],\n",
    "                    \"valid\": [8640, 11520],\n",
    "                    \"test\": [\n",
    "                        11520,\n",
    "                        14400,\n",
    "                    ],\n",
    "                }\n",
    "            elif DATASET in [\"ETTm1\", \"ETTm2\"]:\n",
    "                split_config = {\n",
    "                    \"train\": [0, 34560],\n",
    "                    \"valid\": [34560, 46080],\n",
    "                    \"test\": [\n",
    "                        46080,\n",
    "                        57600,\n",
    "                    ],\n",
    "                }\n",
    "            else:\n",
    "                split_config = {\n",
    "                    \"train\": 0.7,\n",
    "                    \"test\": 0.2,\n",
    "                }\n",
    "\n",
    "            data = pd.read_csv(\n",
    "                dataset_path,\n",
    "                parse_dates=[timestamp_column],\n",
    "            )\n",
    "\n",
    "            target_columns = data.columns.to_list()[1:]  # all the columns from the data except 'date'\n",
    "\n",
    "            column_specifiers = {\n",
    "                \"timestamp_column\": timestamp_column,\n",
    "                \"id_columns\": id_columns,\n",
    "                \"target_columns\": target_columns,\n",
    "                \"control_columns\": [],\n",
    "            }\n",
    "\n",
    "            tsp = TimeSeriesPreprocessor(\n",
    "                **column_specifiers,\n",
    "                context_length=CONTEXT_LEN,\n",
    "                prediction_length=FORECAST_LEN,\n",
    "                scaling=True,\n",
    "                encode_categorical=False,\n",
    "                scaler_type=\"standard\",\n",
    "            )\n",
    "\n",
    "            _, _, dset_test = get_datasets(tsp, data, split_config)\n",
    "\n",
    "            def collate_only_past_values(batch):\n",
    "                return torch.stack([item[\"past_values\"] for item in batch])\n",
    "\n",
    "            test_dataloader = DataLoader(\n",
    "                dset_test, batch_size=batch_size, shuffle=False, collate_fn=collate_only_past_values\n",
    "            )\n",
    "\n",
    "            model = TSPulseForReconstruction.from_pretrained(\n",
    "                \"ibm-granite/granite-timeseries-tspulse-r1\",\n",
    "                revision=\"tspulse-hybrid-dualhead-512-p8-r1\",\n",
    "                num_input_channels=tsp.num_input_channels,\n",
    "                mask_type=\"user\",\n",
    "            ).to(device)\n",
    "\n",
    "            seed = 42\n",
    "            g = torch.Generator(device=device)\n",
    "            g.manual_seed(seed)\n",
    "\n",
    "            trues, preds, masks = [], [], []\n",
    "            with torch.no_grad():\n",
    "                for batch in tqdm(test_dataloader):\n",
    "                    batch_x = batch.to(device)  # b l c\n",
    "\n",
    "                    mask = mask_generate(g, batch_x, 8, mask_ratio, mask_type)\n",
    "\n",
    "                    output = model(past_values=batch_x, past_observed_mask=~mask)\n",
    "\n",
    "                    reconstructed_output = output.reconstruction_outputs\n",
    "\n",
    "                    trues.append(batch_x.detach().cpu().numpy())\n",
    "                    preds.append(reconstructed_output.detach().cpu().numpy())\n",
    "                    masks.append(mask.detach().cpu().numpy())\n",
    "\n",
    "                preds = np.concatenate(preds)\n",
    "                trues = np.concatenate(trues)\n",
    "                masks = np.concatenate(masks)\n",
    "\n",
    "                MSE = mse(y=trues[masks == 1], y_hat=preds[masks == 1], reduction=\"mean\")\n",
    "                print(f\"Dataset = {DATASET}  : Mask Type = {mask_type}  : Mask Ratio = {mask_ratio}\")\n",
    "                print(f\"Mean Squarred Error (MSE)={MSE:.3f}\")"
   ]
  },
  {
   "cell_type": "code",
   "execution_count": null,
   "id": "8d31f252-6b2b-4573-ae8c-7b29503efe00",
   "metadata": {},
   "outputs": [],
   "source": []
  },
  {
   "cell_type": "code",
   "execution_count": null,
   "id": "1f557b78-2784-48ec-9a3f-c7a104f8bdf7",
   "metadata": {},
   "outputs": [],
   "source": []
  }
 ],
 "metadata": {
  "kernelspec": {
   "display_name": "Python 3 (ipykernel)",
   "language": "python",
   "name": "python3"
  },
  "language_info": {
   "codemirror_mode": {
    "name": "ipython",
    "version": 3
   },
   "file_extension": ".py",
   "mimetype": "text/x-python",
   "name": "python",
   "nbconvert_exporter": "python",
   "pygments_lexer": "ipython3",
   "version": "3.11.12"
  }
 },
 "nbformat": 4,
 "nbformat_minor": 5
}
