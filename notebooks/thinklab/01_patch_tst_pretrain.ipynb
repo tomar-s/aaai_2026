{
 "cells": [
  {
   "cell_type": "markdown",
   "metadata": {},
   "source": [
    "# Pretraining a Time Series Model using Channel Independence PatchTST\n",
    "\n",
    "<ul>\n",
    "<li>Contributors: IBM AI Research team and IBM Research Technology Education team\n",
    "<li>Contact for questions and technical support: IBM.Research.JupyterLab@ibm.com\n",
    "<li>Provenance: IBM Research\n",
    "<li>Version: 1.0.0\n",
    "<li>Release date: \n",
    "<li>Compute requirements: 1 CPU\n",
    "<li>Memory requirements: 16 GB\n",
    "<li>Notebook set: Time Series Foundation Model\n",
    "</ul>"
   ]
  },
  {
   "cell_type": "markdown",
   "metadata": {},
   "source": [
    "# Summary\n",
    "\n",
    "**Patch Time Series Transformer (PatchTST)** is a new method for long-term forecasting based on Transformer modeling. In PatchTST, a time series is segmented into subseries-level patches that are served as input tokens to Transformer. PatchTST was first proposed in 2023 in [this paper](https://arxiv.org/pdf/2211.14730.pdf). It can achieve state-of-the-art results when compared to other Transformer-based models.\n",
    "\n",
    "**Channel Independence PatchTST** is a variant of PatchTST where each channel contains a single univariate time series that shares the same embedding and Transformer weights across all the series.\n",
    "\n",
    "This notebook shows how to pretrain a Channel Independence PatchTST model. In this context, pretraining means that the model is trained in a self-supervised way using masking. Individual patches (small segments of the input time series) are masked and the model is trying to reconstruct the missing patches.\n",
    "\n",
    "This is the first of three notebooks that should be run in sequence using training and test data from the ETTh1 benchmark dataset, which represents oil temperature in an electric transformer. After running this notebook, a pretrained model will be saved in your private storage. The second notebook, `02_patch_tst_fine_tune.ipynb`, will load the pretrained model and create a fine tuned model, which will be also saved in your private storage. The third notebook, `03_patch_tst_inference.ipynb`, will perform inferencing using the fine tuned model, with a goal of predicting the future temperature of the oil in the electric transformer."
   ]
  },
  {
   "cell_type": "markdown",
   "metadata": {},
   "source": [
    "# Table of Contents\n",
    "\n",
    "* <a href=\"#TST1_intro\">Channel Independence PatchTST</a>\n",
    "* <a href=\"#TST1_codes\">Code Samples</a>\n",
    "    * <a href=\"#TST1_import\">Step 1. Imports</a>\n",
    "    * <a href=\"#TST1_datast\">Step 2. Load and prepare datasets </a>\n",
    "    * <a href=\"#TST1_config\">Step 3. Configure the PatchTST model </a>\n",
    "    * <a href=\"#TST1_trainm\">Step 4. Train model </a>\n",
    "* <a href=\"#TST1_concl\">Conclusion</a>\n",
    "* <a href=\"#TST1_learn\">Learn More</a>"
   ]
  },
  {
   "cell_type": "markdown",
   "metadata": {},
   "source": [
    "<a id=\"TST1_intro\"></a>\n",
    "# Channel Independence PatchTST\n",
    "\n",
    "**Channel Independence PatchTST** is an efficient design of Transformer-based models for multivariate time series forecasting and self-supervised representation learning. It is demonstrated in the following diagram. It is based on two key components:\n",
    "\n",
    "- segmentation of time series into subseries-level patches that are served as input tokens to Transformer\n",
    "\n",
    "- channel independence where each channel contains a single univariate time series that shares the same embedding and Transformer weights across all the series.\n",
    "\n",
    "Patching design naturally has three-fold benefit: local semantic information is retained in the embedding; computation and memory usage of the attention maps are quadratically reduced given the same look-back window; and the model can attend longer history.\n",
    "\n",
    "Channel independence allows each time series to have its own embedding and attention maps while sharing the same model parameters across different channels.\n",
    "\n",
    "<div> <img src=\"./data/figures/patchTST.png\" alt=\"Drawing\" style=\"width: 600px;\"/></div>"
   ]
  },
  {
   "cell_type": "markdown",
   "metadata": {},
   "source": [
    "<a id=\"TST1_codes\"></a>\n",
    "# Code Samples\n",
    "\n",
    "This section includes documentation and code samples to demonstrate the use of the toolkit for pretraining."
   ]
  },
  {
   "cell_type": "markdown",
   "metadata": {},
   "source": [
    "<a id=\"TST1_import\"></a>\n",
    "## Step 1. Imports "
   ]
  },
  {
   "cell_type": "code",
   "execution_count": 1,
   "metadata": {},
   "outputs": [],
   "source": [
    "import pandas as pd\n",
    "\n",
    "from tsfmservices.toolkit.dataset import PretrainDFDataset\n",
    "from tsfmservices.toolkit.time_series_preprocessor import TimeSeriesPreprocessor\n",
    "from tsfmservices.toolkit.util import select_by_index\n",
    "from transformers import (\n",
    "    PatchTSTConfig,\n",
    "    PatchTSTForPretraining,\n",
    "    Trainer,\n",
    "    TrainingArguments,\n",
    ")"
   ]
  },
  {
   "cell_type": "markdown",
   "metadata": {},
   "source": [
    " <a id=\"TST1_datast\"></a>\n",
    "## Step 2. Load and prepare datasets\n",
    "\n",
    "\n",
    " In the next cell, please adjust the following parameters to suit your application:\n",
    " - dataset_path: path to local .csv file, or web address to a csv file for the data of interest. Data is loaded with pandas, so anything supported by\n",
    "   `pd.read_csv` is supported: (https://pandas.pydata.org/pandas-docs/stable/reference/api/pandas.read_csv.html).\n",
    " - timestamp_column: column name containing timestamp information, use None if there is no such column\n",
    " - id_columns: List of column names specifying the IDs of different time series. If no ID column exists, use []\n",
    " - forecast_columns: List of columns to be modeled\n",
    " - context_length: The amount of historical data used as input to the model. Windows of the input time series data with length equal to\n",
    "   context_length will be extracted from the input dataframe. In the case of a multi-time series dataset, the context windows will be created\n",
    "   so that they are contained within a single time series (i.e., a single ID).\n",
    " - train_start_index, train_end_index: the start and end indices in the loaded data which delineate the training data.\n",
    " - eval_start_index, eval_end_index: the start and end indices in the loaded data which delineate the evaluation data.\n",
    "\n",
    " The data is first loaded into a Pandas dataframe and split into training and evaluation parts. Then the pandas dataframes are converted\n",
    " to the appropriate torch dataset needed for training.\n",
    " \n",
    " The specific data loaded here is Electricity Transformer Temperature (ETT) data - the temperature of the oil in an electric transformer."
   ]
  },
  {
   "cell_type": "code",
   "execution_count": 2,
   "metadata": {},
   "outputs": [],
   "source": [
    "dataset_path = (\n",
    "    \"https://raw.githubusercontent.com/zhouhaoyi/ETDataset/main/ETT-small/ETTh1.csv\"\n",
    ")\n",
    "timestamp_column = \"date\"\n",
    "id_columns = []\n",
    "forecast_columns = [\"HUFL\", \"HULL\", \"MUFL\", \"MULL\", \"LUFL\", \"LULL\", \"OT\"]\n",
    "\n",
    "context_length = 512\n",
    "\n",
    "train_start_index = None  # None indicates beginning of dataset\n",
    "train_end_index = 12 * 30 * 24\n",
    "\n",
    "# we shift the start of the evaluation period back by context length so that\n",
    "# the first evaluation timestamp is immediately following the training data\n",
    "eval_start_index = 12 * 30 * 24 - context_length\n",
    "eval_end_index = 12 * 30 * 24 + 4 * 30 * 24"
   ]
  },
  {
   "cell_type": "code",
   "execution_count": 3,
   "metadata": {},
   "outputs": [
    {
     "name": "stderr",
     "output_type": "stream",
     "text": [
      "/Users/wmgifford/miniconda3/envs/test_ogv/lib/python3.10/site-packages/tsfmservices/toolkit/time_series_preprocessor.py:223: FutureWarning: In a future version of pandas, a length 1 tuple will be returned when iterating over a groupby with a grouper equal to a list of length 1. Don't supply a list with a single grouper to avoid this warning.\n",
      "  for name, g in grps:\n"
     ]
    }
   ],
   "source": [
    "data = pd.read_csv(\n",
    "    dataset_path,\n",
    "    parse_dates=[timestamp_column],\n",
    ")\n",
    "\n",
    "train_data = select_by_index(\n",
    "    data,\n",
    "    id_columns=id_columns,\n",
    "    start_index=train_start_index,\n",
    "    end_index=train_end_index,\n",
    ")\n",
    "eval_data = select_by_index(\n",
    "    data,\n",
    "    id_columns=id_columns,\n",
    "    start_index=eval_start_index,\n",
    "    end_index=eval_end_index,\n",
    ")\n",
    "\n",
    "tsp = TimeSeriesPreprocessor(\n",
    "    timestamp_column=timestamp_column,\n",
    "    id_columns=id_columns,\n",
    "    input_columns=forecast_columns,\n",
    "    output_columns=forecast_columns,\n",
    "    scaling=True,\n",
    ")\n",
    "tsp.train(train_data)\n",
    "train_dataset = PretrainDFDataset(\n",
    "    tsp.preprocess(train_data),\n",
    "    id_columns=id_columns,\n",
    "    input_columns=forecast_columns,\n",
    "    context_length=context_length,\n",
    ")\n",
    "eval_dataset = PretrainDFDataset(\n",
    "    tsp.preprocess(eval_data),\n",
    "    timestamp_column=timestamp_column,\n",
    "    input_columns=forecast_columns,\n",
    "    context_length=context_length,\n",
    ")"
   ]
  },
  {
   "cell_type": "markdown",
   "metadata": {},
   "source": [
    "<a id=\"TST1_config\"></a>\n",
    "## Step 3. Configure the PatchTST model\n",
    "\n",
    " The settings below control the different components in the PatchTST model.\n",
    "  - num_input_channels: the number of input channels (or dimensions) in the time series data. This is\n",
    "    automatically set to the number for forecast columns.\n",
    "  - context_length: As described above, the amount of historical data used as input to the model.\n",
    "  - patch_length: The length of the patches extracted from the context window (of length `context_length`).\n",
    "  - patch_stride: The stride used when extracting patches from the context window.\n",
    "  - mask_ratio: The fraction of input patches that are completely masked for the purpose of pretraining the model.\n",
    "  - d_model: Dimension of the transformer layers.\n",
    "  - encoder_attention_heads: The number of attention heads for each attention layer in the Transformer encoder.\n",
    "  - encoder_layers: The number of encoder layers.\n",
    "  - encoder_ffn_dim: Dimension of the intermediate (often referred to as feed-forward) layer in the encoder.\n",
    "  - dropout: Dropout probability for all fully connected layers in the encoder.\n",
    "  - head_dropout: Dropout probability used in the head of the model.\n",
    "  - pooling_type: Pooling of the embedding. `\"mean\"`, `\"max\"` and `None` are supported.\n",
    "  - channel_attention: Activate channel attention block in the Transformer to allow channels to attend each other.\n",
    "  - scaling: Whether to scale the input targets via \"mean\" scaler, \"std\" scaler or no scaler if `None`. If `True`, the\n",
    "    scaler is set to `\"mean\"`.\n",
    "  - loss: The loss function for the model corresponding to the `distribution_output` head. For parametric\n",
    "    distributions it is the negative log likelihood (\"nll\") and for point estimates it is the mean squared\n",
    "    error `\"mse\"`.\n",
    "  - pre_norm: Normalization is applied before self-attention if pre_norm is set to `True`. Otherwise, normalization is\n",
    "    applied after residual block.\n",
    "  - norm: Normalization at each Transformer layer. Can be `\"BatchNorm\"` or `\"LayerNorm\"`.\n",
    "\n",
    " We recommend that you only adjust the values in the next cell."
   ]
  },
  {
   "cell_type": "code",
   "execution_count": 4,
   "metadata": {},
   "outputs": [],
   "source": [
    "patch_length = 12"
   ]
  },
  {
   "cell_type": "code",
   "execution_count": 5,
   "metadata": {},
   "outputs": [],
   "source": [
    "config = PatchTSTConfig(\n",
    "    num_input_channels=len(forecast_columns),\n",
    "    context_length=context_length,\n",
    "    patch_length=patch_length,\n",
    "    patch_stride=patch_length,\n",
    "    mask_ratio=0.4,\n",
    "    d_model=128,\n",
    "    encoder_attention_heads=16,\n",
    "    encoder_layers=3,\n",
    "    encoder_ffn_dim=512,\n",
    "    dropout=0.2,\n",
    "    head_dropout=0.2,\n",
    "    pooling_type=None,\n",
    "    channel_attention=False,\n",
    "    scaling=\"std\",\n",
    "    loss=\"mse\",\n",
    "    pre_norm=True,\n",
    "    norm=\"batchnorm\",\n",
    ")\n",
    "pretraining_model = PatchTSTForPretraining(config)"
   ]
  },
  {
   "cell_type": "markdown",
   "metadata": {},
   "source": [
    "<a id=\"TST1_trainm\"></a>\n",
    "## Step 4. Train model\n",
    "\n",
    " Trains the PatchTST model based on the Mask-based pretraining strategy. We recommend that the user keep the settings\n",
    " as they are below, with the exception of:\n",
    "  - num_train_epochs: The number of training epochs. This may need to be adjusted to ensure sufficient training.\n"
   ]
  },
  {
   "cell_type": "code",
   "execution_count": 6,
   "metadata": {},
   "outputs": [
    {
     "data": {
      "text/html": [
       "\n",
       "    <div>\n",
       "      \n",
       "      <progress value='20340' max='20340' style='width:300px; height:20px; vertical-align: middle;'></progress>\n",
       "      [20340/20340 14:00, Epoch 20/20]\n",
       "    </div>\n",
       "    <table border=\"1\" class=\"dataframe\">\n",
       "  <thead>\n",
       " <tr style=\"text-align: left;\">\n",
       "      <th>Epoch</th>\n",
       "      <th>Training Loss</th>\n",
       "      <th>Validation Loss</th>\n",
       "    </tr>\n",
       "  </thead>\n",
       "  <tbody>\n",
       "    <tr>\n",
       "      <td>1</td>\n",
       "      <td>0.859600</td>\n",
       "      <td>0.711285</td>\n",
       "    </tr>\n",
       "    <tr>\n",
       "      <td>2</td>\n",
       "      <td>0.778800</td>\n",
       "      <td>0.628688</td>\n",
       "    </tr>\n",
       "    <tr>\n",
       "      <td>3</td>\n",
       "      <td>0.692100</td>\n",
       "      <td>0.527992</td>\n",
       "    </tr>\n",
       "    <tr>\n",
       "      <td>4</td>\n",
       "      <td>0.635400</td>\n",
       "      <td>0.489430</td>\n",
       "    </tr>\n",
       "    <tr>\n",
       "      <td>5</td>\n",
       "      <td>0.610200</td>\n",
       "      <td>0.472082</td>\n",
       "    </tr>\n",
       "    <tr>\n",
       "      <td>6</td>\n",
       "      <td>0.584900</td>\n",
       "      <td>0.449554</td>\n",
       "    </tr>\n",
       "    <tr>\n",
       "      <td>7</td>\n",
       "      <td>0.562200</td>\n",
       "      <td>0.434989</td>\n",
       "    </tr>\n",
       "    <tr>\n",
       "      <td>8</td>\n",
       "      <td>0.545900</td>\n",
       "      <td>0.424456</td>\n",
       "    </tr>\n",
       "    <tr>\n",
       "      <td>9</td>\n",
       "      <td>0.530800</td>\n",
       "      <td>0.418056</td>\n",
       "    </tr>\n",
       "    <tr>\n",
       "      <td>10</td>\n",
       "      <td>0.521200</td>\n",
       "      <td>0.413192</td>\n",
       "    </tr>\n",
       "    <tr>\n",
       "      <td>11</td>\n",
       "      <td>0.511600</td>\n",
       "      <td>0.405948</td>\n",
       "    </tr>\n",
       "    <tr>\n",
       "      <td>12</td>\n",
       "      <td>0.504800</td>\n",
       "      <td>0.401422</td>\n",
       "    </tr>\n",
       "    <tr>\n",
       "      <td>13</td>\n",
       "      <td>0.498400</td>\n",
       "      <td>0.396158</td>\n",
       "    </tr>\n",
       "    <tr>\n",
       "      <td>14</td>\n",
       "      <td>0.493300</td>\n",
       "      <td>0.394728</td>\n",
       "    </tr>\n",
       "    <tr>\n",
       "      <td>15</td>\n",
       "      <td>0.489500</td>\n",
       "      <td>0.393347</td>\n",
       "    </tr>\n",
       "    <tr>\n",
       "      <td>16</td>\n",
       "      <td>0.486500</td>\n",
       "      <td>0.392493</td>\n",
       "    </tr>\n",
       "    <tr>\n",
       "      <td>17</td>\n",
       "      <td>0.482600</td>\n",
       "      <td>0.391648</td>\n",
       "    </tr>\n",
       "    <tr>\n",
       "      <td>18</td>\n",
       "      <td>0.481300</td>\n",
       "      <td>0.389443</td>\n",
       "    </tr>\n",
       "    <tr>\n",
       "      <td>19</td>\n",
       "      <td>0.479200</td>\n",
       "      <td>0.387129</td>\n",
       "    </tr>\n",
       "    <tr>\n",
       "      <td>20</td>\n",
       "      <td>0.479100</td>\n",
       "      <td>0.387499</td>\n",
       "    </tr>\n",
       "  </tbody>\n",
       "</table><p>"
      ],
      "text/plain": [
       "<IPython.core.display.HTML object>"
      ]
     },
     "metadata": {},
     "output_type": "display_data"
    },
    {
     "data": {
      "text/plain": [
       "TrainOutput(global_step=20340, training_loss=0.561378669551223, metrics={'train_runtime': 841.1401, 'train_samples_per_second': 193.285, 'train_steps_per_second': 24.181, 'total_flos': 2109572985569280.0, 'train_loss': 0.561378669551223, 'epoch': 20.0})"
      ]
     },
     "execution_count": 6,
     "metadata": {},
     "output_type": "execute_result"
    }
   ],
   "source": [
    "training_args = TrainingArguments(\n",
    "    output_dir=\"./checkpoint/pretrain\",\n",
    "    # logging_steps = 100,\n",
    "    num_train_epochs=20,\n",
    "    evaluation_strategy=\"epoch\",\n",
    "    save_strategy=\"epoch\",\n",
    "    save_total_limit=5,\n",
    "    logging_strategy=\"epoch\",\n",
    "    load_best_model_at_end=True,\n",
    "    # max_steps=10,  # For a quick test\n",
    "    label_names=[\"past_values\"],\n",
    ")\n",
    "pretrainer = Trainer(\n",
    "    model=pretraining_model,\n",
    "    args=training_args,\n",
    "    train_dataset=train_dataset,\n",
    "    eval_dataset=eval_dataset,\n",
    ")\n",
    "\n",
    "pretrainer.train()"
   ]
  },
  {
   "cell_type": "markdown",
   "metadata": {},
   "source": [
    "## Save the model"
   ]
  },
  {
   "cell_type": "code",
   "execution_count": 7,
   "metadata": {},
   "outputs": [],
   "source": [
    "pretrainer.save_model(\"model/pretrained\")"
   ]
  },
  {
   "cell_type": "markdown",
   "metadata": {},
   "source": [
    "<a id=\"TST1_concl\"></a>\n",
    "# Conclusion\n",
    "\n",
    "This notebook showed how to pretrain a Channel Independence PatchTST model. In this context, pretraining means that the model is trained in a self-supervised way using masking. Individual patches (small segments of the input time series) are masked and the model is trying to reconstruct the missing patches.\n",
    "\n",
    "This is the first of three notebooks that should be run in sequence using training and test data from the ETTh1 benchmark dataset, which represents oil temperature in an electric transformer.\n",
    "\n",
    "The above output shows the performance (training loss and validation loss) of the model during the pretraining process. In this case we are using mean squared error (MSE) as a loss function. As the epochs progress we want performance to improve. We would like to see the training and validation losses decrease rapidly for a few epochs and then converge. Validation loss should be relatively close to training loss. High validation loss indicates that the model may be overfitting. Low validation loss means that there might be some distribution differences between the training and test datasets."
   ]
  },
  {
   "cell_type": "markdown",
   "metadata": {},
   "source": [
    "<a id=\"TST1_learn\"></a>\n",
    "# Learn More\n",
    "\n",
    "[This paper](https://arxiv.org/pdf/2211.14730.pdf) provides detailed information on Channel Independence PatchTST, including evaluations of its performance on 8 popular datasets, including Weather, Traffic, Electricity, ILI and 4 Electricity Transformer Temperature datasets (ETTh1, ETTh2, ETTm1, ETTm2). These publicly available datasets have been extensively utilized for benchmarking. We featured one of them (ETTh1) in this notebook.\n",
    "\n",
    "If you have any questions or wish to schedule a technical deep dive, contact us by email at IBM.Research.JupyterLab@ibm.com."
   ]
  },
  {
   "cell_type": "markdown",
   "metadata": {},
   "source": [
    "© 2023 IBM Corporation"
   ]
  }
 ],
 "metadata": {
  "kernelspec": {
   "display_name": "Python 3 (ipykernel)",
   "language": "python",
   "name": "python3"
  },
  "language_info": {
   "codemirror_mode": {
    "name": "ipython",
    "version": 3
   },
   "file_extension": ".py",
   "mimetype": "text/x-python",
   "name": "python",
   "nbconvert_exporter": "python",
   "pygments_lexer": "ipython3",
   "version": "3.10.12"
  }
 },
 "nbformat": 4,
 "nbformat_minor": 4
}
