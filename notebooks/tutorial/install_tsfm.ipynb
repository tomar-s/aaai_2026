{
 "cells": [
  {
   "cell_type": "markdown",
   "metadata": {},
   "source": [
    "# Install IBM/tsfm repository\n",
    "\n",
    "This notebook installs the IBM Time Series Foundation Model repository."
   ]
  },
  {
   "cell_type": "code",
   "execution_count": null,
   "metadata": {},
   "outputs": [],
   "source": [
    "! git clone git@github.com:IBM/tsfm.git"
   ]
  },
  {
   "cell_type": "code",
   "execution_count": null,
   "metadata": {},
   "outputs": [],
   "source": [
    "! cd tsfm"
   ]
  },
  {
   "cell_type": "code",
   "execution_count": null,
   "metadata": {},
   "outputs": [],
   "source": [
    "! pip install \".[notebooks]\""
   ]
  },
  {
   "cell_type": "code",
   "execution_count": null,
   "metadata": {},
   "outputs": [],
   "source": [
    "# Check installation\n",
    "from tsfm_public.models.tinytimemixer import TinyTimeMixerForPrediction\n",
    "\n",
    "model_512 = TinyTimeMixerForPrediction.from_pretrained(\"ibm/TTM\", revision=\"main\")\n",
    "model_512"
   ]
  },
  {
   "cell_type": "code",
   "execution_count": null,
   "metadata": {},
   "outputs": [],
   "source": [
    "model_1024 = TinyTimeMixerForPrediction.from_pretrained(\"ibm/TTM\", revision=\"1024_96_v1\")\n",
    "model_1024"
   ]
  }
 ],
 "metadata": {
  "kernelspec": {
   "display_name": "torch",
   "language": "python",
   "name": "python3"
  },
  "language_info": {
   "name": "python",
   "version": "3.9.13"
  }
 },
 "nbformat": 4,
 "nbformat_minor": 2
}
